{
  "cells": [
    {
      "cell_type": "markdown",
      "metadata": {
        "id": "view-in-github",
        "colab_type": "text"
      },
      "source": [
        "<a href=\"https://colab.research.google.com/github/saikumar-dumpoju/Saikumar_INFO5731_Fall2023/blob/main/Dumpoju_Saikumar_Assignment_01.ipynb\" target=\"_parent\"><img src=\"https://colab.research.google.com/assets/colab-badge.svg\" alt=\"Open In Colab\"/></a>"
      ]
    },
    {
      "cell_type": "markdown",
      "metadata": {
        "id": "Ryk8D1Q4Wsrp"
      },
      "source": [
        "# **INFO5731 Assignment One**"
      ]
    },
    {
      "cell_type": "markdown",
      "metadata": {
        "id": "90_NR8c5XGWc"
      },
      "source": [
        "# Question 1\n",
        "\n",
        "(20 points). Write a Python program to generate 12 random numbers between 1 and 100. Sort the list of numbers in ascending order and print it out. Sort the list of numbers in descending order and print it out. Calculate the average for the group and print it out."
      ]
    },
    {
      "cell_type": "code",
      "execution_count": 1,
      "metadata": {
        "id": "5QX6bJjGWXY9",
        "colab": {
          "base_uri": "https://localhost:8080/"
        },
        "outputId": "2f70ccae-f490-47df-d47f-35580390371a"
      },
      "outputs": [
        {
          "output_type": "stream",
          "name": "stdout",
          "text": [
            "Random_Numbers: [9, 93, 43, 8, 38, 55, 21, 28, 9, 77, 31, 32]\n",
            "Ascending_Sorted: [8, 9, 9, 21, 28, 31, 32, 38, 43, 55, 77, 93]\n",
            "Descending_Sorted: [93, 77, 55, 43, 38, 32, 31, 28, 21, 9, 9, 8]\n",
            "Average: 37.0\n"
          ]
        }
      ],
      "source": [
        "# Your code here\n",
        "import random\n",
        "rand_nums = [random.randint(1, 100) for _ in range(12)] #generate 12 random numbers between 1 and 100\n",
        "asc_sorted = sorted(rand_nums) # sorting the list in ascending order\n",
        "desc_sorted = sorted(rand_nums, reverse=True)  # sorting the list in descending order\n",
        "average = sum(rand_nums) / len(rand_nums) # calculate the average\n",
        "print(\"Random_Numbers:\", rand_nums) #printing the results\n",
        "print(\"Ascending_Sorted:\", asc_sorted)\n",
        "print(\"Descending_Sorted:\", desc_sorted)\n",
        "print(\"Average:\", average)\n"
      ]
    },
    {
      "cell_type": "markdown",
      "metadata": {
        "id": "1F_PZdH9Sh49"
      },
      "source": [
        "# Question 2\n",
        "(25 points).\n",
        "\n",
        "Write a program that will do the following string formatting tasks:\n",
        "\n",
        "(1) Ask the user to enter two sentences.\n",
        "\n",
        "(2) Make each sentence into a list. Each element in the list should correspond to a word in the sentence. For example, if the sentence is \"Alas! Am I alive? This is my first python program\", the program should print out ['Alas, '!', 'Am', 'I', 'alive, '?', 'This', 'is', 'my', 'first', 'python', 'program'].\n",
        "\n",
        "(3) Compare the two sentences. Print out a list of words that occur in both sentences.\n",
        "\n",
        "(4) Remove any punctuation from the sentence and print it back out. It should remove at least the following characters, but it can remove more: period(“.”), comma (“,”), semicolon (“;”), and colon (“:”)\n",
        "\n",
        "(5) Count the number of vowels in the sentences. Print out each vowel and the number of times it appears in the sentences, such as: a:2, e:1, i:0, etc"
      ]
    },
    {
      "cell_type": "code",
      "execution_count": 3,
      "metadata": {
        "id": "Y0oOSlsOS0cq",
        "colab": {
          "base_uri": "https://localhost:8080/"
        },
        "outputId": "294e879c-9bed-479f-875d-44bd23a6530b"
      },
      "outputs": [
        {
          "output_type": "stream",
          "name": "stdout",
          "text": [
            "Enter the first sentence: sky is blue my love is true\n",
            "Enter the second sentence: love yourself\n",
            "Words in the first sentence: ['sky', 'is', 'blue', 'my', 'love', 'is', 'true']\n",
            "Words in the second sentence: ['love', 'yourself']\n",
            "Common words: ['love']\n",
            "First sentence without punctuation: sky is blue my love is true\n",
            "Second sentence without punctuation: love yourself\n",
            "Vowel counts in the first sentence: {'A': 0, 'E': 0, 'I': 0, 'O': 0, 'U': 0, 'a': 0, 'e': 3, 'i': 2, 'o': 1, 'u': 2}\n",
            "Vowel counts in the second sentence: {'A': 0, 'E': 0, 'I': 0, 'O': 0, 'U': 0, 'a': 0, 'e': 2, 'i': 0, 'o': 2, 'u': 1}\n"
          ]
        }
      ],
      "source": [
        "# Your code here\n",
        "import string\n",
        "\n",
        "# Function to split a sentence into a list of words\n",
        "def split_sentence(sentence):\n",
        "    words = sentence.split()\n",
        "    # Removing punctuation from each word\n",
        "    words = [word.strip(string.punctuation) for word in words]\n",
        "    return words\n",
        "\n",
        "# Function to count vowels in a sentence\n",
        "def count_vowels(sentence):\n",
        "    vowels = \"AEIOUaeiou\"\n",
        "    vowel_counts = {vowel: 0 for vowel in vowels}\n",
        "    for char in sentence:\n",
        "        if char in vowels:\n",
        "            vowel_counts[char] += 1\n",
        "    return vowel_counts\n",
        "\n",
        "# Input sentences from the user\n",
        "sentence1 = input(\"Enter the first sentence: \")\n",
        "sentence2 = input(\"Enter the second sentence: \")\n",
        "\n",
        "# Split the sentences into lists of words\n",
        "words1 = split_sentence(sentence1)\n",
        "words2 = split_sentence(sentence2)\n",
        "\n",
        "# Print the lists of words\n",
        "print(\"Words in the first sentence:\", words1)\n",
        "print(\"Words in the second sentence:\", words2)\n",
        "\n",
        "# Find common words in both sentences\n",
        "common_words = [word for word in words1 if word in words2]\n",
        "print(\"Common words:\", common_words)\n",
        "\n",
        "# Remove punctuation and print the sentences\n",
        "sentence1_no_punctuation = ' '.join(words1)\n",
        "sentence2_no_punctuation = ' '.join(words2)\n",
        "print(\"First sentence without punctuation:\", sentence1_no_punctuation)\n",
        "print(\"Second sentence without punctuation:\", sentence2_no_punctuation)\n",
        "\n",
        "# Count vowels in both sentences\n",
        "vowel_counts1 = count_vowels(sentence1)\n",
        "vowel_counts2 = count_vowels(sentence2)\n",
        "\n",
        "# Print vowel counts\n",
        "print(\"Vowel counts in the first sentence:\", vowel_counts1)\n",
        "print(\"Vowel counts in the second sentence:\", vowel_counts2)\n",
        "\n"
      ]
    },
    {
      "cell_type": "markdown",
      "metadata": {
        "id": "CmFoI4jDS9nx"
      },
      "source": [
        "# Question 3\n",
        "\n",
        "(15 points). The formula that describes the volume V of a sphere with radius r is the following:\n",
        "\n",
        "$ V=\\frac{4}{3}\\ast\\ \\pi\\ast\\ r^3 $\n",
        "\n",
        "Write a program to calculate the value of V when r is in the range of 1–10. Output the result in the following format:\n",
        "\n",
        "\tr\tV\n",
        "\t1\t…\n",
        "\t2\t…\n",
        "\t3\t…\n"
      ]
    },
    {
      "cell_type": "code",
      "execution_count": 2,
      "metadata": {
        "id": "pEyqeioAT95b",
        "colab": {
          "base_uri": "https://localhost:8080/"
        },
        "outputId": "6e65184a-4de1-4cd5-c504-52b81d13ff90"
      },
      "outputs": [
        {
          "output_type": "stream",
          "name": "stdout",
          "text": [
            "When r = 1, the volume V is 4.19\n",
            "When r = 2, the volume V is 33.51\n",
            "When r = 3, the volume V is 113.10\n",
            "When r = 4, the volume V is 268.08\n",
            "When r = 5, the volume V is 523.60\n",
            "When r = 6, the volume V is 904.78\n",
            "When r = 7, the volume V is 1436.76\n",
            "When r = 8, the volume V is 2144.66\n",
            "When r = 9, the volume V is 3053.63\n",
            "When r = 10, the volume V is 4188.79\n"
          ]
        }
      ],
      "source": [
        "# Your code here\n",
        "import math\n",
        "\n",
        "\n",
        "rad_range = range(1, 11)\n",
        "for r in rad_range:\n",
        "    volume = (4/3) * math.pi * (r ** 3)\n",
        "    print(f\"When r = {r}, the volume V is {volume:.2f}\")\n",
        "\n"
      ]
    },
    {
      "cell_type": "markdown",
      "metadata": {
        "id": "z3tBE7E-Xn5X"
      },
      "source": [
        "# Question 4\n",
        "\n",
        "(40 points). In the field of Data Science, data is often formatted as a comma-delimited (CSV) file, where each line in a file corresponds to a field's value. Refer to Chapter 9 (p. 106) for more information on comma-delimited files. To answer this question, you will need to download the file [Assignment1_denton_housing.csv](https://raw.githubusercontent.com/unt-iialab/info5731-spring2022/main/assignments/Assignment1_denton_housing.csv) included with this assignment. The file [Assignment1_denton_housing.csv](https://raw.githubusercontent.com/unt-iialab/info5731-spring2022/main/assignments/Assignment1_denton_housing.csv) contains statistics about housing in the city of Denton from 2008 to 2014. Write a program to implement the following questions.\n",
        "\n",
        "(1) (10 pts) Calculate the difference in the number of Occupied Housing Units from year to year and print it. The difference must be calculated for the consecutive years such as 2008-2009, 2009-2010 etc. Finally, print the values in the ascending order.\n",
        "\n",
        "(2) (10 pts) For all the years, calculate the percentage of housing units which are vacant an occupied. Print the results in the following format:\n",
        "\n",
        "Year Vacant Housing Units Occupied Housing Units\n",
        "\n",
        "    2008  30%   70%                          \n",
        "\t2009 ----- -----\n",
        "\t2010 ----- -----\n",
        "    2011 ----- -----\n",
        "\t2012 ----- -----\n",
        "    2013 ----- -----\n",
        "\t2014 ----- -----\n",
        "  \n",
        "  \n",
        "\n",
        "(3) (10 pts) Calculate and print the valued and years in which the highest number of housing units were vacant and occupied. Print the results in the following format:  \n",
        "\n",
        "                              Year\tValue\n",
        "\tVacant Housing Units\t  -----   -----\n",
        "\tOccupied Housing Units\t-----   -----\n",
        "\n",
        "(4) (10 pts) Calculate the harmonic mean of the total housing units and print it out. You can find the information about harmonic mean here: https://ncalculators.com/statistics/harmonic-mean-calculator.htm"
      ]
    },
    {
      "cell_type": "code",
      "execution_count": 12,
      "metadata": {
        "id": "lqGYuHBhcsRH"
      },
      "outputs": [],
      "source": [
        "import pandas as pd\n",
        "import numpy as np\n",
        "\n",
        "# Load the dataset into a DataFrame\n",
        "df = pd.read_csv('Assignment1_denton_housing.csv')\n"
      ]
    },
    {
      "cell_type": "code",
      "source": [
        "#1 Calculate the difference in the number of Occupied Housing Units from year to year\n",
        "occupied_diff = df[df['title_field'] == 'Occupied Housing Units'].sort_values(by='year')['value'].diff().dropna()\n",
        "years = df[df['title_field'] == 'Occupied Housing Units'].sort_values(by='year')['year'].values[1:]\n",
        "\n",
        "# Print the results in ascending order of year ranges\n",
        "print(\"Task 1: Difference in Occupied Housing Units from year to year (Ascending Order):\")\n",
        "for year, diff in zip(years, occupied_diff):\n",
        "    print(f\"{year}-{year+1}: {diff}\")\n"
      ],
      "metadata": {
        "colab": {
          "base_uri": "https://localhost:8080/"
        },
        "id": "2T87KuwkKA2r",
        "outputId": "f011932a-8d94-4ab3-cd9f-1bf2d90d4276"
      },
      "execution_count": 13,
      "outputs": [
        {
          "output_type": "stream",
          "name": "stdout",
          "text": [
            "Task 1: Difference in Occupied Housing Units from year to year (Ascending Order):\n",
            "2009-2010: -795.0\n",
            "2010-2011: 5091.0\n",
            "2011-2012: -303.0\n",
            "2012-2013: 1404.0\n",
            "2013-2014: 1565.0\n",
            "2014-2015: 2622.0\n"
          ]
        }
      ]
    },
    {
      "cell_type": "code",
      "source": [
        "#2 Calculate the difference in the number of Occupied Housing Units from year to year\n",
        "occupied_diff = df[df['title_field'] == 'Occupied Housing Units'].sort_values(by='year')['value'].diff().dropna()\n",
        "years = df[df['title_field'] == 'Occupied Housing Units'].sort_values(by='year')['year'].values[1:]\n",
        "\n",
        "# Print the results in ascending order of year ranges\n",
        "print(\"Task 1: Difference in Occupied Housing Units from year to year (Ascending Order):\")\n",
        "for year, diff in zip(years, occupied_diff):\n",
        "    print(f\"{year}-{year+1}: {diff}\")\n"
      ],
      "metadata": {
        "colab": {
          "base_uri": "https://localhost:8080/"
        },
        "id": "Nw_YjsUEKEHB",
        "outputId": "983b58ca-882d-455e-b71c-ff3e202eb9a7"
      },
      "execution_count": 14,
      "outputs": [
        {
          "output_type": "stream",
          "name": "stdout",
          "text": [
            "Task 1: Difference in Occupied Housing Units from year to year (Ascending Order):\n",
            "2009-2010: -795.0\n",
            "2010-2011: 5091.0\n",
            "2011-2012: -303.0\n",
            "2012-2013: 1404.0\n",
            "2013-2014: 1565.0\n",
            "2014-2015: 2622.0\n"
          ]
        }
      ]
    },
    {
      "cell_type": "code",
      "source": [
        "#3 Find the years in which the highest number of housing units were vacant and occupied\n",
        "max_vacant = df[df['title_field'] == 'Vacant Housing Units'].sort_values(by='value', ascending=False).iloc[0]['year']\n",
        "max_occupied = df[df['title_field'] == 'Occupied Housing Units'].sort_values(by='value', ascending=False).iloc[0]['year']\n",
        "\n",
        "# Print the results in the specified format\n",
        "print(\"\\nTask 3: Years in which the highest number of housing units were vacant and occupied:\")\n",
        "print(\"Vacant Housing Units\\tOccupied Housing Units\")\n",
        "print(f\"{max_vacant}\\t\\t\\t\\t{max_occupied}\")\n"
      ],
      "metadata": {
        "colab": {
          "base_uri": "https://localhost:8080/"
        },
        "id": "5zm0dP9AKJKc",
        "outputId": "8ae2a390-3c51-44f0-faea-96ed0d65a57f"
      },
      "execution_count": 15,
      "outputs": [
        {
          "output_type": "stream",
          "name": "stdout",
          "text": [
            "\n",
            "Task 3: Years in which the highest number of housing units were vacant and occupied:\n",
            "Vacant Housing Units\tOccupied Housing Units\n",
            "2008\t\t\t\t2014\n"
          ]
        }
      ]
    },
    {
      "cell_type": "code",
      "source": [
        "#4 Calculate the harmonic mean of the total housing units\n",
        "total_units = df[df['title_field'] == 'Total Housing Units']['value'].values\n",
        "harmonic_mean = len(total_units) / np.sum(1 / total_units)\n",
        "\n",
        "# Print the harmonic mean\n",
        "print(\"\\nTask 4: Harmonic Mean of Total Housing Units:\")\n",
        "print(f\"Harmonic Mean: {harmonic_mean:.2f}\")\n"
      ],
      "metadata": {
        "colab": {
          "base_uri": "https://localhost:8080/"
        },
        "id": "jd_FEJkYKLpN",
        "outputId": "270aefc2-cc6f-4600-c286-00c04494555c"
      },
      "execution_count": 18,
      "outputs": [
        {
          "output_type": "stream",
          "name": "stdout",
          "text": [
            "\n",
            "Task 4: Harmonic Mean of Total Housing Units:\n",
            "Harmonic Mean: 44398.29\n"
          ]
        }
      ]
    }
  ],
  "metadata": {
    "colab": {
      "provenance": [],
      "include_colab_link": true
    },
    "kernelspec": {
      "display_name": "Python 3 (ipykernel)",
      "language": "python",
      "name": "python3"
    },
    "language_info": {
      "codemirror_mode": {
        "name": "ipython",
        "version": 3
      },
      "file_extension": ".py",
      "mimetype": "text/x-python",
      "name": "python",
      "nbconvert_exporter": "python",
      "pygments_lexer": "ipython3",
      "version": "3.9.12"
    }
  },
  "nbformat": 4,
  "nbformat_minor": 0
}