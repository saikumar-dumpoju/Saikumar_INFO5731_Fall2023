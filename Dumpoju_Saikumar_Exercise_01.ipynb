{
  "cells": [
    {
      "cell_type": "markdown",
      "metadata": {
        "id": "view-in-github"
      },
      "source": [
        "<a href=\"https://colab.research.google.com/github/unt-iialab/INFO5731_Spring2020/blob/master/In_class_exercise/In_class_exercise_01.ipynb\" target=\"_parent\"><img src=\"https://colab.research.google.com/assets/colab-badge.svg\" alt=\"Open In Colab\"/></a>"
      ]
    },
    {
      "cell_type": "markdown",
      "metadata": {
        "id": "DymRJbxDBCnf"
      },
      "source": [
        "# **The first In-class-exercise (08/30/2023, 40 points in total)**\n",
        "This exercise is due tomorrow 08/31/203 11:59 PM.\n"
      ]
    },
    {
      "cell_type": "markdown",
      "source": [
        "(1) Write a Python program to calculate the area of a rectangle using user-input length and width."
      ],
      "metadata": {
        "id": "FBKvD6O_TY6e"
      }
    },
    {
      "cell_type": "code",
      "source": [
        "# write your answer here\n",
        "length, width = map(int,input(\"Enter length and width of a rectangle\").split())\n",
        "print(\"length = \",length)\n",
        "print(\"width = \", width)\n",
        "print(\"Area of a rectangle is: \",length*width)"
      ],
      "metadata": {
        "id": "cikVKDXdTbzE",
        "colab": {
          "base_uri": "https://localhost:8080/"
        },
        "outputId": "928bec9d-6a96-46b6-fe54-adc67607f28e"
      },
      "execution_count": null,
      "outputs": [
        {
          "output_type": "stream",
          "name": "stdout",
          "text": [
            "Enter length and width of a rectangle2 5\n",
            "length =  2\n",
            "width =  5\n",
            "Area of a rectangle is:  10\n"
          ]
        }
      ]
    },
    {
      "cell_type": "markdown",
      "source": [
        "(2) Create a program that takes two numbers from the user and swaps their values without using a temporary variable."
      ],
      "metadata": {
        "id": "E9RqrlwdTfvl"
      }
    },
    {
      "cell_type": "code",
      "source": [
        "# write your answer here\n",
        "v1 = int(input(\"Enter first value: \"))\n",
        "v2 = int(input(\"Enter second value: \"))#v1 means value-1 & v2 means value-2\n",
        "print(v1, v2) #Before swapping\n",
        "v1 = v1 + v2\n",
        "v2 = v1 -v2\n",
        "v1 = v1 - v2\n",
        "print(v1, v2) #After swaping"
      ],
      "metadata": {
        "id": "4XvRknixTh1g",
        "colab": {
          "base_uri": "https://localhost:8080/"
        },
        "outputId": "2ee0a63e-5353-40fc-fa68-bf39bb7d5f88"
      },
      "execution_count": null,
      "outputs": [
        {
          "output_type": "stream",
          "name": "stdout",
          "text": [
            "Enter first value: 4\n",
            "Enter second value: 7\n",
            "4 7\n",
            "7 4\n"
          ]
        }
      ]
    },
    {
      "cell_type": "markdown",
      "metadata": {
        "id": "03jb4GZsBkBS"
      },
      "source": [
        "(3) Write a Python program to calculate the length of a string."
      ]
    },
    {
      "cell_type": "code",
      "execution_count": null,
      "metadata": {
        "id": "YaGLbSHHB8Ej",
        "colab": {
          "base_uri": "https://localhost:8080/"
        },
        "outputId": "bdffe84c-8d78-45cd-c7f4-6bd424331885"
      },
      "outputs": [
        {
          "output_type": "stream",
          "name": "stdout",
          "text": [
            "10\n"
          ]
        }
      ],
      "source": [
        "# write your answer here\n",
        "Str='viratkohli'\n",
        "print(len(Str))"
      ]
    },
    {
      "cell_type": "markdown",
      "metadata": {
        "id": "jJDe71iLB616"
      },
      "source": [
        "(4) Write a Python program to count the number of characters in a string.\n",
        "\n",
        "Sample String : 'google.com‘,\n",
        "\n",
        "Expected Result : {'o': 3, 'g': 2, '.': 1, 'e': 1, 'l': 1, 'm': 1, 'c': 1}"
      ]
    },
    {
      "cell_type": "code",
      "execution_count": null,
      "metadata": {
        "id": "MtKskTzbCLaU",
        "colab": {
          "base_uri": "https://localhost:8080/"
        },
        "outputId": "1e6aebac-9139-4400-c2bd-f2b436fb711e"
      },
      "outputs": [
        {
          "output_type": "stream",
          "name": "stdout",
          "text": [
            "{'g': 2, 'o': 3, 'l': 1, 'e': 1, '.': 1, 'c': 1, 'm': 1}\n"
          ]
        }
      ],
      "source": [
        "# write your answer here\n",
        "String='google.com'\n",
        "dictonary={}\n",
        "for i in String:\n",
        " keys=dictonary.keys()\n",
        " if i in keys:\n",
        "  dictonary[i]+=1\n",
        " else:\n",
        "  dictonary[i]=1\n",
        "print(dictonary)"
      ]
    },
    {
      "cell_type": "markdown",
      "metadata": {
        "id": "55W9AMdXCSpV"
      },
      "source": [
        "(5) Write a Python program to sum all the items in a list."
      ]
    },
    {
      "cell_type": "code",
      "execution_count": null,
      "metadata": {
        "id": "I57NXsauCec2",
        "colab": {
          "base_uri": "https://localhost:8080/"
        },
        "outputId": "ecad4978-465e-42c8-88aa-4210c39191e3"
      },
      "outputs": [
        {
          "output_type": "stream",
          "name": "stdout",
          "text": [
            "135\n"
          ]
        }
      ],
      "source": [
        "# write your answer here\n",
        "list=[4,7,21,51,52] #Consider a list containing integers\n",
        "sum=0\n",
        "for i in range(len(list)):\n",
        "  sum=sum+list[i]\n",
        "print(sum)"
      ]
    },
    {
      "cell_type": "markdown",
      "metadata": {
        "id": "4ulBZ6yhCi9F"
      },
      "source": [
        "(6) Write a Python program to get a string from a given string where all occurrences of its first char have been changed to '\\$', except the first char itself.\n",
        "\n",
        "Sample String : 'restart‘,\n",
        "\n",
        "Expected Result : 'resta\\$t'"
      ]
    },
    {
      "cell_type": "code",
      "execution_count": null,
      "metadata": {
        "id": "Fj0XhwbBCw2o",
        "colab": {
          "base_uri": "https://localhost:8080/"
        },
        "outputId": "3bb6691c-8d6a-4357-879c-c0089296e296"
      },
      "outputs": [
        {
          "output_type": "stream",
          "name": "stdout",
          "text": [
            "resta$t the p$ocess\n"
          ]
        }
      ],
      "source": [
        "# write your answer here\n",
        "sample_str = \"restart the process\"\n",
        "final = sample_str.replace(\"r\", \"$\").replace(\"$\", \"r\", 1)\n",
        "print(final)"
      ]
    },
    {
      "cell_type": "markdown",
      "source": [
        "(7) Create a program that calculates the factorial of a number using a while loop."
      ],
      "metadata": {
        "id": "qVXA3q7ET5JI"
      }
    },
    {
      "cell_type": "code",
      "source": [
        "# write your answer here\n",
        "FactNum = int(input(\"Enter a number: \"))\n",
        "print(FactNum)\n",
        "m = 0\n",
        "Result= 1\n",
        "while m < FactNum:\n",
        "    Result *= FactNum-m\n",
        "    m +=1\n",
        "print(Result)"
      ],
      "metadata": {
        "id": "Lbt7R6UkT7BA",
        "colab": {
          "base_uri": "https://localhost:8080/"
        },
        "outputId": "fb5cafbd-bcb4-4411-a3c7-ec3e7a176297"
      },
      "execution_count": null,
      "outputs": [
        {
          "output_type": "stream",
          "name": "stdout",
          "text": [
            "Enter a number: 6\n",
            "6\n",
            "720\n"
          ]
        }
      ]
    },
    {
      "cell_type": "markdown",
      "source": [
        "(8) Create a program that takes a list of numbers as input and outputs a new list with only the even numbers."
      ],
      "metadata": {
        "id": "6YfbzXMNT--R"
      }
    },
    {
      "cell_type": "code",
      "source": [
        "# write your answer here\n",
        "inputList = list(map(int, input(\"Enter all the numbers to input in the list: \").split()))\n",
        "print(inputList)\n",
        "outputList = []\n",
        "for item in inputList:\n",
        "    if item%2 == 0:\n",
        "        outputList.append(item)\n",
        "print(outputList)"
      ],
      "metadata": {
        "id": "54q7wMQPUAKu",
        "colab": {
          "base_uri": "https://localhost:8080/"
        },
        "outputId": "87ddcf7d-83ae-431c-9124-c52878b305a3"
      },
      "execution_count": null,
      "outputs": [
        {
          "output_type": "stream",
          "name": "stdout",
          "text": [
            "Enter all the numbers to input in the list: 2 12 3 9 32\n",
            "[2, 12, 3, 9, 32]\n",
            "[2, 12, 32]\n"
          ]
        }
      ]
    },
    {
      "cell_type": "markdown",
      "metadata": {
        "id": "_bIP7s1MCzue"
      },
      "source": [
        "(9) Write a program with python which could accept two parameter a and b to calculate and output the result of S, where\n",
        "\n",
        "$\\ S=3.14*(1+a/b)^3$\n",
        "\n"
      ]
    },
    {
      "cell_type": "code",
      "execution_count": null,
      "metadata": {
        "id": "w79QilHXD3Mg",
        "colab": {
          "base_uri": "https://localhost:8080/"
        },
        "outputId": "dc853270-7b66-4116-bdf9-8c75f2b21a9b"
      },
      "outputs": [
        {
          "output_type": "stream",
          "name": "stdout",
          "text": [
            "4.687113702623906\n"
          ]
        }
      ],
      "source": [
        "# write your answer here\n",
        "Ptr_a=3 #parameter_a = 3\n",
        "Ptr_b=21 #parameter_b = 21\n",
        "S=3.14*((1+Ptr_a/Ptr_b)**3)\n",
        "print(S)"
      ]
    },
    {
      "cell_type": "markdown",
      "metadata": {
        "id": "xCa2bK9aD4Q3"
      },
      "source": [
        "(10) Write a Python program to concatenate following dictionaries to create a new one.\n",
        "\n",
        "Sample Dictionary : dic1={1:10, 2:20}, dic2={3:30, 4:40}, dic3={5:50,6:60},\n",
        "\n",
        "Expected Result : {1: 10, 2: 20, 3: 30, 4: 40, 5: 50, 6: 60}\n"
      ]
    },
    {
      "cell_type": "code",
      "execution_count": null,
      "metadata": {
        "id": "_z4aLqAbEET1",
        "colab": {
          "base_uri": "https://localhost:8080/"
        },
        "outputId": "a2d34707-5153-4d89-ffa7-e3da73d3c8d9"
      },
      "outputs": [
        {
          "output_type": "stream",
          "name": "stdout",
          "text": [
            "{1: 8, 2: 18, 3: 24, 4: 32, 5: 42, 6: 60}\n"
          ]
        }
      ],
      "source": [
        "# write your answer here\n",
        "Dictonary1={1:8, 2:18}\n",
        "Dictonary2={3:24, 4:32}\n",
        "Dictonary3={5:42,6:60}\n",
        "Dictonary1.update(Dictonary2)\n",
        "Dictonary1.update(Dictonary3)\n",
        "print(Dictonary1)"
      ]
    },
    {
      "cell_type": "markdown",
      "source": [
        "(11) Write a Python function that accepts a tuple of integers and returns the largest and smallest elements."
      ],
      "metadata": {
        "id": "bkyZ2xSZUOst"
      }
    },
    {
      "cell_type": "code",
      "source": [
        "# write your answer here\n",
        "inpTuple = tuple(map(int, input(\"Enter values of a tuple: \").split()))\n",
        "print(inpTuple)\n",
        "sorted_tuple=tuple(sorted(inpTuple))\n",
        "print(\"smallest nbr : \",sorted_tuple[0])\n",
        "print(\"largest nbr: \",sorted_tuple[-1])"
      ],
      "metadata": {
        "id": "3FdLRBKOUQEd",
        "colab": {
          "base_uri": "https://localhost:8080/"
        },
        "outputId": "341fc350-7e8c-4d10-b49c-f14ae570948b"
      },
      "execution_count": null,
      "outputs": [
        {
          "output_type": "stream",
          "name": "stdout",
          "text": [
            "Enter values of a tuple: 2 3 12 15 18\n",
            "(2, 3, 12, 15, 18)\n",
            "smallest nbr :  2\n",
            "largest nbr:  18\n"
          ]
        }
      ]
    },
    {
      "cell_type": "markdown",
      "source": [
        "(12) Write a Python program that counts the frequency of each character in a given string and stores it in a dictionary."
      ],
      "metadata": {
        "id": "O0TVi3gKUTpp"
      }
    },
    {
      "cell_type": "code",
      "source": [
        "# write your answer here\n",
        "stringFreq = \" university of north texas\"\n",
        "Freq = {}\n",
        "\n",
        "for char in stringFreq:\n",
        "  if char in Freq:\n",
        "    Freq[char] +=1\n",
        "  else:\n",
        "    Freq[char]=1\n",
        "for k, v in Freq.items():\n",
        "  print(k, \" : \" ,v)"
      ],
      "metadata": {
        "id": "lAtfSfZXUU-h",
        "colab": {
          "base_uri": "https://localhost:8080/"
        },
        "outputId": "f59a8354-fdef-47f8-b3cc-e7e91bf7da23"
      },
      "execution_count": null,
      "outputs": [
        {
          "output_type": "stream",
          "name": "stdout",
          "text": [
            "   :  4\n",
            "u  :  1\n",
            "n  :  2\n",
            "i  :  2\n",
            "v  :  1\n",
            "e  :  2\n",
            "r  :  2\n",
            "s  :  2\n",
            "t  :  3\n",
            "y  :  1\n",
            "o  :  2\n",
            "f  :  1\n",
            "h  :  1\n",
            "x  :  1\n",
            "a  :  1\n"
          ]
        }
      ]
    },
    {
      "cell_type": "markdown",
      "metadata": {
        "id": "0v48Vqa7FrQh"
      },
      "source": [
        "(13) Write a Python program to check whether an element exists within a tuple."
      ]
    },
    {
      "cell_type": "code",
      "execution_count": null,
      "metadata": {
        "id": "7WEmgq-DF2P1",
        "colab": {
          "base_uri": "https://localhost:8080/"
        },
        "outputId": "f94efc18-c224-4a4c-b4e4-285c7c787b11"
      },
      "outputs": [
        {
          "output_type": "stream",
          "name": "stdout",
          "text": [
            "False\n",
            "True\n"
          ]
        }
      ],
      "source": [
        "# write your answer here\n",
        "tup=(8,14,21,65,25,46)\n",
        "print(24 in tup)\n",
        "print(21 in tup)"
      ]
    },
    {
      "cell_type": "markdown",
      "metadata": {
        "id": "vD5PYLMuGga_"
      },
      "source": [
        "(14) Write a Python program to find maximum and the minimum value in a set."
      ]
    },
    {
      "cell_type": "code",
      "execution_count": null,
      "metadata": {
        "id": "t0D5kdJUGjjw",
        "colab": {
          "base_uri": "https://localhost:8080/"
        },
        "outputId": "7bccc394-f9e1-4051-b538-a1e9499f7dde"
      },
      "outputs": [
        {
          "output_type": "stream",
          "name": "stdout",
          "text": [
            "73\n",
            "3\n"
          ]
        }
      ],
      "source": [
        "# write your answer here\n",
        "Set={9,12,68,32,3,73}\n",
        "print(max(Set))\n",
        "print(min(Set))"
      ]
    },
    {
      "cell_type": "markdown",
      "metadata": {
        "id": "uHkd-y5VhVWC"
      },
      "source": [
        "(15) Write a Python program to randomly divide the students in this class into six groups for term projects, each group should have at least 4 students but no more than 6 students (including 6). Here is the students list:\n",
        "student_list_fall_2023=['sb1826' ,\n",
        " 'lb0582' ,\n",
        " 'ab1820' ,\n",
        " 'sb1883' ,\n",
        " 'mb1296' ,\n",
        " 'sc1622' ,\n",
        " 'tc0469' ,\n",
        " 'ac1770' ,\n",
        " 'mc1453' ,\n",
        " 'ad1187' ,\n",
        " 'sd0926' ,\n",
        " 'sd1268' ,\n",
        " 'ag1609' ,\n",
        " 'sg1638' ,\n",
        " 'mg1299' ,\n",
        " 'vkk0022' ,\n",
        " 'bk0413' ,\n",
        " 'gk0257' ,\n",
        " 'am2807' ,\n",
        " 'gm0558' ,\n",
        " 'pm0658' ,\n",
        " 'am2346' ,\n",
        " 'rm1090' ,\n",
        " 'sm2364' ,\n",
        " 'sm2747' ,\n",
        " 'sm2343' ,\n",
        " 'vm0597' ,\n",
        " 'htn0086' ,\n",
        " 'sp2075' ,\n",
        " 'gp0306' ,\n",
        " 'lp0502' ,\n",
        " 'sr1508' ,\n",
        " 'vr0331' ,\n",
        " 'yr0180' ,\n",
        " 'as2819' ,\n",
        " 'ss2981' ,\n",
        " 'ns0756' ,\n",
        " 'mt0825' ,\n",
        " 'dt0463' ,\n",
        " 'su0137' ,\n",
        " 'dv0310'\n",
        "]"
      ]
    },
    {
      "cell_type": "code",
      "execution_count": null,
      "metadata": {
        "id": "3iGbmcOBhTwy",
        "colab": {
          "base_uri": "https://localhost:8080/"
        },
        "outputId": "fba5e1a4-e1c7-449d-cfbf-0d194acc1233"
      },
      "outputs": [
        {
          "output_type": "stream",
          "name": "stdout",
          "text": [
            "[['vmb0067', 'pc0353', 'snd0097', 'yye0005'], ['sg0940', 'bk0301', 'rak0120', 'rrk0058', 'spk0057'], ['vl0135', 'nm0547', 'pn0159', 'msp0174', 'dd0420'], ['ds0761', 'rs0850', 'ss1995', 'at0739', 'at0768'], ['mv0299', 'tv0119', 'dy0091']]\n"
          ]
        }
      ],
      "source": [
        "# write your answer here\n",
        "from itertools import islice\n",
        "from random import randint\n",
        "\n",
        "std_list = ['vmb0067','pc0353','snd0097','yye0005','sg0940','bk0301','rak0120','rrk0058','spk0057','vl0135','nm0547','pn0159', 'msp0174','dd0420','ds0761','rs0850','ss1995','at0739','at0768','mv0299','tv0119','dy0091']\n",
        "\n",
        "def class_group(student_list, no_of_groups, min_size=3, max_size=5):\n",
        "    lst_student = iter(std_list)\n",
        "    for i in range(no_of_groups):\n",
        "        group = list(islice(lst_student,randint(min_size,max_size)))\n",
        "        if group:\n",
        "            yield group\n",
        "        else:\n",
        "            break\n",
        "print(list(class_group(std_list,5)))"
      ]
    },
    {
      "cell_type": "markdown",
      "metadata": {
        "id": "fmZ9vX20Qs3d"
      },
      "source": [
        "(16) Write a Python program to find the duplicate elements in a given array of integers. Return -1 If there are no such elements."
      ]
    },
    {
      "cell_type": "code",
      "execution_count": null,
      "metadata": {
        "id": "W8Jw6sWMQs3d",
        "colab": {
          "base_uri": "https://localhost:8080/"
        },
        "outputId": "f27b5b8b-4c89-4455-d9b8-ac6f66d71a85"
      },
      "outputs": [
        {
          "output_type": "stream",
          "name": "stdout",
          "text": [
            "[21, 34]\n"
          ]
        }
      ],
      "source": [
        "# write your answer here\n",
        "def dup_elements(Elements):\n",
        "    count=0\n",
        "    list2=[]\n",
        "    for i in range(len(Elements)):\n",
        "        for j in range(i+1,len(Elements)):\n",
        "            if Elements[i]==Elements[j]:\n",
        "                list2.append(Elements[i])\n",
        "    if len(list2)==0:\n",
        "        return -1;\n",
        "    else:\n",
        "        return list2;\n",
        "\n",
        "Elements=[8,21,34,46,21,56,34]\n",
        "print(dup_elements(Elements))\n"
      ]
    },
    {
      "cell_type": "markdown",
      "metadata": {
        "id": "hvq4APMhQs3d"
      },
      "source": [
        "(17) Write a Python program to select all the Sundays of a specified year."
      ]
    },
    {
      "cell_type": "code",
      "execution_count": null,
      "metadata": {
        "id": "ZnoxhSglQs3d",
        "colab": {
          "base_uri": "https://localhost:8080/"
        },
        "outputId": "9069e878-8fba-4cf5-c055-30ed121cbfb5"
      },
      "outputs": [
        {
          "output_type": "stream",
          "name": "stdout",
          "text": [
            "2023-01-01\n",
            "2023-01-08\n",
            "2023-01-15\n",
            "2023-01-22\n",
            "2023-01-29\n",
            "2023-02-05\n",
            "2023-02-12\n",
            "2023-02-19\n",
            "2023-02-26\n",
            "2023-03-05\n",
            "2023-03-12\n",
            "2023-03-19\n",
            "2023-03-26\n",
            "2023-04-02\n",
            "2023-04-09\n",
            "2023-04-16\n",
            "2023-04-23\n",
            "2023-04-30\n",
            "2023-05-07\n",
            "2023-05-14\n",
            "2023-05-21\n",
            "2023-05-28\n",
            "2023-06-04\n",
            "2023-06-11\n",
            "2023-06-18\n",
            "2023-06-25\n",
            "2023-07-02\n",
            "2023-07-09\n",
            "2023-07-16\n",
            "2023-07-23\n",
            "2023-07-30\n",
            "2023-08-06\n",
            "2023-08-13\n",
            "2023-08-20\n",
            "2023-08-27\n",
            "2023-09-03\n",
            "2023-09-10\n",
            "2023-09-17\n",
            "2023-09-24\n",
            "2023-10-01\n",
            "2023-10-08\n",
            "2023-10-15\n",
            "2023-10-22\n",
            "2023-10-29\n",
            "2023-11-05\n",
            "2023-11-12\n",
            "2023-11-19\n",
            "2023-11-26\n",
            "2023-12-03\n",
            "2023-12-10\n",
            "2023-12-17\n",
            "2023-12-24\n",
            "2023-12-31\n"
          ]
        }
      ],
      "source": [
        "# write your answer here\n",
        "from datetime import date, timedelta\n",
        "def Year_Sunday(year):\n",
        "       date_time = date(year, 1, 1)\n",
        "       date_time += timedelta(days = 6 - date_time.weekday())\n",
        "       while date_time.year == year:\n",
        "          yield date_time\n",
        "          date_time += timedelta(days = 7)\n",
        "for i in Year_Sunday(2023):\n",
        "   print(i)"
      ]
    },
    {
      "cell_type": "markdown",
      "source": [
        "(18) Build a program that calculates the factorial of a given positive integer. The factorial of a non-negative integer n is the product of all positive integers less than or equal to n."
      ],
      "metadata": {
        "id": "55FWoSJPVVM6"
      }
    },
    {
      "cell_type": "code",
      "source": [
        "# write your answer here\n",
        "def fact(n):\n",
        "    return 1 if n == 0 else n * fact(n - 1)\n",
        "inputFact = int(input(\"Enter a number to find factorial: \"))\n",
        "FactResult = fact(inputFact)\n",
        "print(\"Factorial is: \", FactResult)\n"
      ],
      "metadata": {
        "id": "hwtr1wZmVX5A",
        "colab": {
          "base_uri": "https://localhost:8080/"
        },
        "outputId": "b8862e8c-8137-423c-900f-62363f8a27b9"
      },
      "execution_count": null,
      "outputs": [
        {
          "output_type": "stream",
          "name": "stdout",
          "text": [
            "Enter a number to find factorial: 5\n",
            "Factorial is:  120\n"
          ]
        }
      ]
    },
    {
      "cell_type": "markdown",
      "source": [
        "(19) Write a program that takes a positive integer n as input and prints the count of even numbers from 1 to n. Use a loop to iterate through the numbers and utilize the break statement to optimize the loop."
      ],
      "metadata": {
        "id": "Q9ecagcaVazW"
      }
    },
    {
      "cell_type": "code",
      "source": [
        "# write your answer here\n",
        "InputCount = int(input(\"Enter a positive integer n: \"))\n",
        "if InputCount < 1:\n",
        "    print(\"none\")\n",
        "else:\n",
        "    EvenCount = InputCount // 2\n",
        "    print(f\"{EvenCount}.\")"
      ],
      "metadata": {
        "id": "gycgckoAVZjR",
        "colab": {
          "base_uri": "https://localhost:8080/"
        },
        "outputId": "40100bcb-d793-42f9-daae-08cd64b4694d"
      },
      "execution_count": null,
      "outputs": [
        {
          "output_type": "stream",
          "name": "stdout",
          "text": [
            "Enter a positive integer n: 13\n",
            "6.\n"
          ]
        }
      ]
    },
    {
      "cell_type": "markdown",
      "source": [
        "(20) Write a Python function called count_vowels that takes a string as input and returns the count of vowels (both lowercase and uppercase) present in the string. Consider the vowels to be 'a', 'e', 'i', 'o', and 'u'. Ignore spaces and other non-alphabetic characters."
      ],
      "metadata": {
        "id": "cboAr5pEWUf5"
      }
    },
    {
      "cell_type": "code",
      "source": [
        "# write your answer here\n",
        "vowels = 'aeiouAEIOU'\n",
        "Input_str = input(\"Enter a string: \")\n",
        "Vowels_count = sum(Input_str.count(vowel) for vowel in vowels)\n",
        "print(f\"{Vowels_count}\")"
      ],
      "metadata": {
        "id": "phs9gciMWWAW",
        "colab": {
          "base_uri": "https://localhost:8080/"
        },
        "outputId": "95c8b372-48dd-432a-8461-0bdb24a1d916"
      },
      "execution_count": null,
      "outputs": [
        {
          "output_type": "stream",
          "name": "stdout",
          "text": [
            "Enter a string: student\n",
            "2\n"
          ]
        }
      ]
    }
  ],
  "metadata": {
    "colab": {
      "provenance": []
    },
    "kernelspec": {
      "display_name": "Python 3 (ipykernel)",
      "language": "python",
      "name": "python3"
    },
    "language_info": {
      "codemirror_mode": {
        "name": "ipython",
        "version": 3
      },
      "file_extension": ".py",
      "mimetype": "text/x-python",
      "name": "python",
      "nbconvert_exporter": "python",
      "pygments_lexer": "ipython3",
      "version": "3.9.12"
    }
  },
  "nbformat": 4,
  "nbformat_minor": 0
}